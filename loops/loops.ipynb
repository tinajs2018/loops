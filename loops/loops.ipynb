{
 "cells": [
  {
   "cell_type": "code",
   "execution_count": 1,
   "metadata": {},
   "outputs": [
    {
     "name": "stdout",
     "output_type": "stream",
     "text": [
      "You are old enough to vote\n"
     ]
    }
   ],
   "source": [
    "age=19\n",
    "if age>=18:\n",
    "    print('You are old enough to vote')"
   ]
  },
  {
   "cell_type": "code",
   "execution_count": 2,
   "metadata": {},
   "outputs": [
    {
     "name": "stdout",
     "output_type": "stream",
     "text": [
      "Not yet kid\n"
     ]
    }
   ],
   "source": [
    "age=12\n",
    "if age>=18:\n",
    "    print('you can vote ')\n",
    "else:\n",
    "        print('Not yet kid')"
   ]
  },
  {
   "cell_type": "code",
   "execution_count": 3,
   "metadata": {},
   "outputs": [
    {
     "data": {
      "text/plain": [
       "'not defined'"
      ]
     },
     "execution_count": 3,
     "metadata": {},
     "output_type": "execute_result"
    }
   ],
   "source": [
    "age=1\n",
    "if age>=10:\n",
    "    cash=50\n",
    "elif age>=20:\n",
    "    cash=100\n",
    "else:\n",
    "    cash='not defined'\n",
    "cash"
   ]
  },
  {
   "cell_type": "code",
   "execution_count": 4,
   "metadata": {},
   "outputs": [],
   "source": [
    "vacination=['doctors','nurse','teachers','soldiers']\n"
   ]
  },
  {
   "cell_type": "code",
   "execution_count": 5,
   "metadata": {},
   "outputs": [
    {
     "data": {
      "text/plain": [
       "True"
      ]
     },
     "execution_count": 5,
     "metadata": {},
     "output_type": "execute_result"
    }
   ],
   "source": [
    "'teachers' in vacination"
   ]
  },
  {
   "cell_type": "code",
   "execution_count": 6,
   "metadata": {},
   "outputs": [
    {
     "data": {
      "text/plain": [
       "False"
      ]
     },
     "execution_count": 6,
     "metadata": {},
     "output_type": "execute_result"
    }
   ],
   "source": [
    "'cops' in vacination"
   ]
  },
  {
   "cell_type": "code",
   "execution_count": 7,
   "metadata": {},
   "outputs": [
    {
     "name": "stdout",
     "output_type": "stream",
     "text": [
      "You can play\n"
     ]
    }
   ],
   "source": [
    "banned=['keen','shawn','wolf']\n",
    "player = 'Wolf'\n",
    "if player not in banned:\n",
    "    print('You can play')\n",
    "else:\n",
    "    print('You cannot play')"
   ]
  },
  {
   "cell_type": "code",
   "execution_count": 8,
   "metadata": {},
   "outputs": [
    {
     "name": "stdout",
     "output_type": "stream",
     "text": [
      "we got no players yet\n"
     ]
    }
   ],
   "source": [
    "players=[]\n",
    "if players:\n",
    "    for boys in players:\n",
    "        print('the title and their poition' + players)\n",
    "else:\n",
    "    print('we got no players yet')"
   ]
  },
  {
   "cell_type": "code",
   "execution_count": 9,
   "metadata": {},
   "outputs": [
    {
     "name": "stdout",
     "output_type": "stream",
     "text": [
      "What your name miss? kristine\n",
      "Nice to meet you  kristine\n"
     ]
    }
   ],
   "source": [
    "name=input('What your name miss?')\n",
    "print('Nice to meet you ' +name)"
   ]
  },
  {
   "cell_type": "code",
   "execution_count": 10,
   "metadata": {},
   "outputs": [
    {
     "name": "stdout",
     "output_type": "stream",
     "text": [
      "how old are  you!23\n",
      "you can vote\n"
     ]
    }
   ],
   "source": [
    "age =input( 'how old are  you!')\n",
    "age=int(age)\n",
    "if age>= 18:\n",
    "    print('you can vote')\n",
    "else:\n",
    "    print('you cannot vote')"
   ]
  },
  {
   "cell_type": "code",
   "execution_count": 11,
   "metadata": {},
   "outputs": [
    {
     "name": "stdout",
     "output_type": "stream",
     "text": [
      "how much  do you earn 3580000\n"
     ]
    },
    {
     "data": {
      "text/plain": [
       "5600"
      ]
     },
     "execution_count": 11,
     "metadata": {},
     "output_type": "execute_result"
    }
   ],
   "source": [
    "salary=input('how much  do you earn')\n",
    "salary=float(salary)\n",
    "if salary<12000:\n",
    "    tax=1000\n",
    "elif salary<=87000:\n",
    "    tax=3800\n",
    "else:\n",
    "    tax=5600\n",
    "\n",
    "tax\n"
   ]
  },
  {
   "cell_type": "code",
   "execution_count": 12,
   "metadata": {},
   "outputs": [
    {
     "name": "stdout",
     "output_type": "stream",
     "text": [
      "how much  do you earn23445\n"
     ]
    },
    {
     "data": {
      "text/plain": [
       "3800"
      ]
     },
     "execution_count": 12,
     "metadata": {},
     "output_type": "execute_result"
    }
   ],
   "source": [
    "salary=input('how much  do you earn')\n",
    "salary=float(salary)\n",
    "if salary<12000:\n",
    "    tax=1000\n",
    "elif salary<=87000:\n",
    "    tax=3800\n",
    "else:\n",
    "    tax=5600\n",
    "\n",
    "tax"
   ]
  },
  {
   "cell_type": "code",
   "execution_count": 13,
   "metadata": {},
   "outputs": [
    {
     "name": "stdout",
     "output_type": "stream",
     "text": [
      "testing\n"
     ]
    }
   ],
   "source": [
    "print('testing')"
   ]
  },
  {
   "cell_type": "code",
   "execution_count": 14,
   "metadata": {},
   "outputs": [
    {
     "name": "stdout",
     "output_type": "stream",
     "text": [
      "1\n",
      "2\n",
      "3\n",
      "4\n",
      "5\n"
     ]
    }
   ],
   "source": [
    "current_number=1\n",
    "while current_number<=5:\n",
    "    print(current_number)\n",
    "    current_number +=1"
   ]
  },
  {
   "cell_type": "code",
   "execution_count": 21,
   "metadata": {},
   "outputs": [],
   "source": [
    "tag=12\n",
    "while tag <= 10:\n",
    "    print(tag)\n",
    "    tag +=1\n"
   ]
  },
  {
   "cell_type": "code",
   "execution_count": 22,
   "metadata": {},
   "outputs": [
    {
     "name": "stdout",
     "output_type": "stream",
     "text": [
      "\n",
      " Enter \"Quit\" to end the program i love coding while listening country music\n",
      " i love coding while listening country music\n",
      "\n",
      " Enter \"Quit\" to end the program i love reading\n",
      " i love reading\n",
      "\n",
      " Enter \"Quit\" to end the program i hate topics about celearities\n",
      " i hate topics about celearities\n",
      "\n",
      " Enter \"Quit\" to end the program I love watching movies \n",
      " I love watching movies \n",
      "\n",
      " Enter \"Quit\" to end the programQuite\n",
      "Quite\n",
      "\n",
      " Enter \"Quit\" to end the programQuit\n"
     ]
    }
   ],
   "source": [
    "# Letting the user choose when to quit\n",
    "prompt='\\n tell me about your self'\n",
    "prompt +='\\n  more dirty'\n",
    "prompt + ='\\n Enter \"Quit\" to end the program'\n",
    "message=''\n",
    "while message!='Quit':\n",
    "    message=input(prompt)\n",
    "    if message != 'Quit':\n",
    "        print(message)"
   ]
  },
  {
   "cell_type": "code",
   "execution_count": 24,
   "metadata": {},
   "outputs": [
    {
     "name": "stdout",
     "output_type": "stream",
     "text": [
      "what is the passcode\n",
      "Do you want to proceed\n",
      "  enter \"quit \" to  cancel the tranfer of moneyyes\n",
      "yes\n",
      "what is the passcode\n",
      "Do you want to proceed\n",
      "  enter \"quit \" to  cancel the tranfer of moneykairo\n",
      "kairo\n",
      "what is the passcode\n",
      "Do you want to proceed\n",
      "  enter \"quit \" to  cancel the tranfer of moneyquit\n"
     ]
    }
   ],
   "source": [
    "code='what is the passcode'\n",
    "code+='\\nDo you want to proceed'\n",
    "code+= '\\n  enter \"quit \" to  cancel the tranfer of money'\n",
    "message=''\n",
    "while message!='quit':\n",
    "    message=input(code)\n",
    "    if message!='quit':\n",
    "        print(message)"
   ]
  },
  {
   "cell_type": "code",
   "execution_count": 25,
   "metadata": {},
   "outputs": [
    {
     "name": "stdout",
     "output_type": "stream",
     "text": [
      "what is the passcode\n",
      "Do you want to proceed\n",
      "  enter \"quit \" to  cancel the tranfer of moneyroom\n",
      "room\n",
      "what is the passcode\n",
      "Do you want to proceed\n",
      "  enter \"quit \" to  cancel the tranfer of moneyyes\n",
      "yes\n",
      "what is the passcode\n",
      "Do you want to proceed\n",
      "  enter \"quit \" to  cancel the tranfer of moneyquit\n"
     ]
    }
   ],
   "source": [
    "code='what is the passcode'\n",
    "code+='\\nDo you want to proceed'\n",
    "code+= '\\n  enter \"quit \" to  cancel the tranfer of money'\n",
    "message=''\n",
    "while message!='quit':\n",
    "    message=input(code)\n",
    "    if message!='quit':\n",
    "        print(message)"
   ]
  },
  {
   "cell_type": "code",
   "execution_count": 27,
   "metadata": {},
   "outputs": [
    {
     "name": "stdout",
     "output_type": "stream",
     "text": [
      "Do you swear to serve your country\n",
      "  do you swear to honour our  counrty \n",
      " Enter\" quit\" to withdrawyes\n",
      "Do you swear to serve your country\n",
      "  do you swear to honour our  counrty \n",
      " Enter\" quit\" to withdrawquit\n",
      "quit\n"
     ]
    }
   ],
   "source": [
    "oath='Do you swear to serve your country'\n",
    "oath +='\\n  do you swear to honour our  counrty'\n",
    "oath +=' \\n Enter\" quit\" to withdraw'\n",
    "active=True\n",
    "while  active :\n",
    "    message=input(oath)\n",
    "    if message=='quit':\n",
    "        active=False;\n",
    "        print(message)\n"
   ]
  },
  {
   "cell_type": "code",
   "execution_count": 30,
   "metadata": {},
   "outputs": [
    {
     "name": "stdout",
     "output_type": "stream",
     "text": [
      "\n",
      " What cities you wish to visit Newyork\n",
      "\n",
      " Enter \"Exit\" to quitexit\n",
      "I have been their\n",
      "\n",
      " Enter \"Exit\" to quit h\n",
      "I have been their\n",
      "\n",
      " Enter \"Exit\" to quitExit\n"
     ]
    }
   ],
   "source": [
    "quiz=input('\\n What cities you wish to visit')\n",
    "quiz='\\n Enter \"Exit\" to quit'\n",
    "while True:\n",
    "    city=input(quiz)\n",
    "    if city=='Exit':\n",
    "        break\n",
    "    else:\n",
    "        print('I have been their')"
   ]
  },
  {
   "cell_type": "code",
   "execution_count": 35,
   "metadata": {},
   "outputs": [
    {
     "name": "stdout",
     "output_type": "stream",
     "text": [
      "  \n",
      "  add another player \n",
      " Enter 'quite' to  quit when you are donejames\n",
      "james  The player is banned\n",
      "  \n",
      "  add another player \n",
      " Enter 'quite' to  quit when you are donemathew\n",
      "  \n",
      "  add another player \n",
      " Enter 'quite' to  quit when you are donedennis\n",
      "  \n",
      "  add another player \n",
      " Enter 'quite' to  quit when you are donemark\n",
      "  \n",
      "  add another player \n",
      " Enter 'quite' to  quit when you are donequit\n",
      "  \n",
      " your team\n",
      "mathew\n",
      "dennis\n",
      "mark\n"
     ]
    }
   ],
   "source": [
    "#Using continue in a loop\n",
    "banned=['james','ken','maggi','eliud']\n",
    "prompt=\"  \\n  add another player\"\n",
    "prompt+=\" \\n Enter 'quite' to  quit when you are done\"\n",
    "players=[]\n",
    "while True:\n",
    "    player=input(prompt)\n",
    "    if player=='quit':\n",
    "        break\n",
    "    elif player in banned: \n",
    "        print( player +  '  The player is banned')\n",
    "        continue\n",
    "    else:\n",
    "        players.append(player)\n",
    "print('  \\n your team')\n",
    "for player in players:\n",
    "    print(player)\n",
    "    \n",
    "        \n",
    "    "
   ]
  },
  {
   "cell_type": "code",
   "execution_count": null,
   "metadata": {},
   "outputs": [],
   "source": []
  },
  {
   "cell_type": "code",
   "execution_count": null,
   "metadata": {},
   "outputs": [],
   "source": []
  }
 ],
 "metadata": {
  "kernelspec": {
   "display_name": "Python 3",
   "language": "python",
   "name": "python3"
  },
  "language_info": {
   "codemirror_mode": {
    "name": "ipython",
    "version": 3
   },
   "file_extension": ".py",
   "mimetype": "text/x-python",
   "name": "python",
   "nbconvert_exporter": "python",
   "pygments_lexer": "ipython3",
   "version": "3.7.4"
  }
 },
 "nbformat": 4,
 "nbformat_minor": 2
}
